{
  "nbformat": 4,
  "nbformat_minor": 0,
  "metadata": {
    "colab": {
      "provenance": []
    },
    "kernelspec": {
      "name": "python3",
      "display_name": "Python 3"
    },
    "language_info": {
      "name": "python"
    }
  },
  "cells": [
    {
      "cell_type": "markdown",
      "source": [
        "Data Science Tools and Ecosystem"
      ],
      "metadata": {
        "id": "gTyf2O0yHiF7"
      }
    },
    {
      "cell_type": "markdown",
      "source": [
        "In this notebook, Data Science Tools and Ecosystem are summarized.\n",
        "\n",
        "\n",
        "\n"
      ],
      "metadata": {
        "id": "yu2lxAhrIBy7"
      }
    },
    {
      "cell_type": "markdown",
      "source": [
        "**Objectives:**\n",
        "\n",
        "- List popular languages for Data Science.\n",
        "- Introduce common libraries used in Data Science.\n",
        "- Demonstrate basic arithmetic and conversion operations.\n"
      ],
      "metadata": {
        "id": "Zx6yEBEAL1A4"
      }
    },
    {
      "cell_type": "markdown",
      "source": [
        "Some of the popular languages that Data Scientists use are:\n",
        "\n",
        "1. Python\n",
        "2. R\n",
        "3. SQL\n",
        "4. Julia"
      ],
      "metadata": {
        "id": "nBeZFGsVInTF"
      }
    },
    {
      "cell_type": "markdown",
      "source": [
        "Some of the commonly used libraries used by Data Scientists include:\n",
        "\n",
        "1. Pandas\n",
        "2. NumPy\n",
        "3. Matplotlib\n",
        "4. Scikit-learn\n"
      ],
      "metadata": {
        "id": "RIFEw98DI_rV"
      }
    },
    {
      "cell_type": "markdown",
      "source": [
        "\n",
        "\n",
        "| Data Science Tools        |\n",
        "|---------------------------|\n",
        "| Jupyter Notebook          |\n",
        "| RStudio                   |\n",
        "| VS Code with Python Tools |\n"
      ],
      "metadata": {
        "id": "Iv6aFkSLJPUJ"
      }
    },
    {
      "cell_type": "markdown",
      "source": [
        "### Arithmetic Expression Examples\n",
        "\n",
        "Below are some basic arithmetic expressions:\n",
        "\n",
        "- Addition: `2 + 3 = 5`\n",
        "- Subtraction: `5 - 2 = 3`\n",
        "- Multiplication: `4 * 3 = 12`\n",
        "- Division: `10 / 2 = 5`\n",
        "- Exponentiation: `2 ** 3 = 8`\n",
        "\n",
        "These examples demonstrate simple arithmetic operations using numbers. You can use these operations in Python code cells within your notebook to perform calculations.\n"
      ],
      "metadata": {
        "id": "SZvcG6zHKK2Q"
      }
    },
    {
      "cell_type": "code",
      "source": [
        "# This is a simple arithmetic expression to multiply then add integers.\n",
        "result = (3 * 4) + 5\n",
        "result\n"
      ],
      "metadata": {
        "colab": {
          "base_uri": "https://localhost:8080/"
        },
        "id": "JImBDh1PKkvd",
        "outputId": "8376bad7-692c-482d-8e7d-e90646f633fa"
      },
      "execution_count": 2,
      "outputs": [
        {
          "output_type": "execute_result",
          "data": {
            "text/plain": [
              "17"
            ]
          },
          "metadata": {},
          "execution_count": 2
        }
      ]
    },
    {
      "cell_type": "code",
      "source": [
        "# This will convert 200 minutes to hours by dividing by 60.\n",
        "minutes = 200\n",
        "hours = minutes / 60\n",
        "hours\n"
      ],
      "metadata": {
        "colab": {
          "base_uri": "https://localhost:8080/"
        },
        "id": "nuFgWB-1KtLy",
        "outputId": "661b4269-98a0-439b-dd37-30790f3fa169"
      },
      "execution_count": 3,
      "outputs": [
        {
          "output_type": "execute_result",
          "data": {
            "text/plain": [
              "3.3333333333333335"
            ]
          },
          "metadata": {},
          "execution_count": 3
        }
      ]
    },
    {
      "cell_type": "markdown",
      "source": [
        "## Author\n",
        "\n",
        "MOHAMED SAFAA"
      ],
      "metadata": {
        "id": "mforiGFNLZtZ"
      }
    }
  ]
}